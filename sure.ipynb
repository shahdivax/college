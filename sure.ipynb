{
 "cells": [
  {
   "cell_type": "code",
   "execution_count": 1,
   "id": "46eed586-46c6-46ca-8bcb-6b41c69ce5f3",
   "metadata": {},
   "outputs": [],
   "source": [
    "# imports\n",
    "import tensorflow as tf\n",
    "import numpy as np\n",
    "from matplotlib import pyplot as plt    \n",
    "from tensorflow.keras.models import Sequential\n",
    "from tensorflow.keras.layers import Conv2D, MaxPooling2D, Dense, Flatten, Dropout\n",
    "import matplotlib.pyplot as plt"
   ]
  },
  {
   "cell_type": "code",
   "execution_count": 2,
   "id": "9f07a12e-6da6-419b-91a6-5ab1839ceaaf",
   "metadata": {},
   "outputs": [
    {
     "name": "stdout",
     "output_type": "stream",
     "text": [
      "Found 10000 files belonging to 5 classes.\n"
     ]
    }
   ],
   "source": [
    "# Train Data\n",
    "dircTrain = 'Landscape_Classification\\Training_Data'\n",
    "dataTrain = tf.keras.utils.image_dataset_from_directory(dircTrain)\n",
    "dataTrain = dataTrain.map(lambda x,y: (x/255,y))\n",
    "# dataTrain.as_numpy_iterator().next()[0].max() #to print max == 1 (should be)\n",
    "# print(len(dataTrain))\n",
    "train_size = int(len(dataTrain))\n",
    "train = dataTrain.take(train_size)"
   ]
  },
  {
   "cell_type": "code",
   "execution_count": 3,
   "id": "f8a30f7b-17c6-4b31-83f9-497d3a6eb515",
   "metadata": {},
   "outputs": [
    {
     "name": "stdout",
     "output_type": "stream",
     "text": [
      "Found 1500 files belonging to 5 classes.\n"
     ]
    }
   ],
   "source": [
    "# Validation Data\n",
    "dircV = 'Landscape_Classification\\Validation_Data'\n",
    "dataV = tf.keras.utils.image_dataset_from_directory(dircV)\n",
    "dataV = dataV.map(lambda x,y: (x/255,y))\n",
    "# dataV.as_numpy_iterator().next()[0].max()\n",
    "# len(dataV)\n",
    "val_size = int(len(dataV))\n",
    "val = dataV.take(val_size)"
   ]
  },
  {
   "cell_type": "code",
   "execution_count": 7,
   "id": "b082dfe7-69f5-4ce7-b2de-3ac004897fa1",
   "metadata": {},
   "outputs": [],
   "source": [
    "# Model\n",
    "\n",
    "model = Sequential()\n",
    "model.add(Conv2D(16, (3,3), 1, activation='relu', input_shape=(256,256,3)))\n",
    "model.add(MaxPooling2D())\n",
    "model.add(Conv2D(32, (3,3), 1, activation='relu'))\n",
    "model.add(MaxPooling2D())\n",
    "model.add(Conv2D(16, (3,3), 1, activation='relu'))\n",
    "model.add(MaxPooling2D())\n",
    "model.add(Flatten())\n",
    "model.add(Dense(256, activation='relu'))\n",
    "model.add(Dense(5, activation='softmax'))\n",
    "\n",
    "# Model Compile\n",
    "\n",
    "model.compile(\n",
    "    optimizer=tf.optimizers.Adam(learning_rate=0.001),\n",
    "    loss=tf.losses.SparseCategoricalCrossentropy(from_logits=False),\n",
    "    metrics=[tf.metrics.SparseCategoricalAccuracy()],\n",
    ")\n",
    "\n",
    "# Model Summery if needed\n",
    "\n",
    "# model.summary()"
   ]
  },
  {
   "cell_type": "code",
   "execution_count": 9,
   "id": "3f807f94-0e0d-4c18-a5bb-bc51ceb8d54e",
   "metadata": {
    "tags": []
   },
   "outputs": [
    {
     "name": "stdout",
     "output_type": "stream",
     "text": [
      "Epoch 1/3\n",
      "313/313 [==============================] - 244s 779ms/step - loss: 0.8724 - sparse_categorical_accuracy: 0.6657 - val_loss: 0.8777 - val_sparse_categorical_accuracy: 0.6520\n",
      "Epoch 2/3\n",
      "313/313 [==============================] - 251s 801ms/step - loss: 0.7468 - sparse_categorical_accuracy: 0.7193 - val_loss: 0.9123 - val_sparse_categorical_accuracy: 0.6567\n",
      "Epoch 3/3\n",
      "313/313 [==============================] - 256s 817ms/step - loss: 0.6262 - sparse_categorical_accuracy: 0.7670 - val_loss: 0.9066 - val_sparse_categorical_accuracy: 0.6753\n"
     ]
    },
    {
     "data": {
      "text/plain": [
       "<keras.callbacks.History at 0x25300056610>"
      ]
     },
     "execution_count": 9,
     "metadata": {},
     "output_type": "execute_result"
    }
   ],
   "source": [
    "#Train Model\n",
    "model.fit(train, epochs=3, validation_data=val)"
   ]
  },
  {
   "cell_type": "code",
   "execution_count": 10,
   "id": "d6c36067-fa8a-4703-94bb-888585baa978",
   "metadata": {},
   "outputs": [
    {
     "name": "stdout",
     "output_type": "stream",
     "text": [
      "47/47 [==============================] - 6s 126ms/step - loss: 0.9066 - sparse_categorical_accuracy: 0.6753\n"
     ]
    },
    {
     "data": {
      "text/plain": [
       "[0.9066324234008789, 0.6753333210945129]"
      ]
     },
     "execution_count": 10,
     "metadata": {},
     "output_type": "execute_result"
    }
   ],
   "source": [
    "#evaluate\n",
    "model.evaluate(val)"
   ]
  },
  {
   "cell_type": "code",
   "execution_count": 11,
   "id": "b99f7f40-8e25-4379-a7aa-a120d3889729",
   "metadata": {},
   "outputs": [
    {
     "name": "stderr",
     "output_type": "stream",
     "text": [
      "WARNING:absl:Found untraced functions such as _jit_compiled_convolution_op, _jit_compiled_convolution_op, _jit_compiled_convolution_op while saving (showing 3 of 3). These functions will not be directly callable after loading.\n"
     ]
    },
    {
     "name": "stdout",
     "output_type": "stream",
     "text": [
      "INFO:tensorflow:Assets written to: Landscape_Classification\\assets\n"
     ]
    },
    {
     "name": "stderr",
     "output_type": "stream",
     "text": [
      "INFO:tensorflow:Assets written to: Landscape_Classification\\assets\n"
     ]
    }
   ],
   "source": [
    "#Save Model\n",
    "model.save(\"Landscape_Classification\")"
   ]
  },
  {
   "cell_type": "code",
   "execution_count": 14,
   "id": "697a094c-b17d-4df3-9aa9-5b573bac4a74",
   "metadata": {
    "tags": []
   },
   "outputs": [
    {
     "name": "stdout",
     "output_type": "stream",
     "text": [
      "1/1 [==============================] - 0s 65ms/step\n",
      "tf.Tensor([0.4046097 0.1488476 0.1488476 0.1488476 0.1488476], shape=(5,), dtype=float32)\n",
      "This image most likely belongs to Coast with a 40.46 percent confidence.\n"
     ]
    }
   ],
   "source": [
    "#Testing\n",
    "model = tf.keras.models.load_model('Landscape_Classification')\n",
    "img = tf.keras.utils.load_img(\n",
    "    'Landscape_Classification/Testing_Data/Coast/Coast-Test(1).jpeg',#path of testing image\n",
    "    target_size=(256, 256)\n",
    ")\n",
    "\n",
    "%matplotlib inline\n",
    "\n",
    "img_array = tf.keras.utils.img_to_array(img)\n",
    "img_array = tf.expand_dims(img_array, 0) # Create a batch\n",
    "\n",
    "# Make a prediction\n",
    "predictions = model.predict(img_array)\n",
    "score = tf.nn.softmax(predictions[0])\n",
    "print(score)\n",
    "\n",
    "# Print the predictions\n",
    "class_names=[\"Coast\", \"Desert\", \"Forest\", \"Glacier\", \"Mountain\"]\n",
    "print(\"This image most likely belongs to {} with a {:.2f} percent confidence.\"\n",
    "      .format(class_names[np.argmax(score)], 100 * np.max(score)))"
   ]
  },
  {
   "cell_type": "code",
   "execution_count": null,
   "id": "37e6f33a-7fcd-4056-931a-3c95ff622888",
   "metadata": {},
   "outputs": [],
   "source": []
  }
 ],
 "metadata": {
  "kernelspec": {
   "display_name": "Python 3 (ipykernel)",
   "language": "python",
   "name": "python3"
  },
  "language_info": {
   "codemirror_mode": {
    "name": "ipython",
    "version": 3
   },
   "file_extension": ".py",
   "mimetype": "text/x-python",
   "name": "python",
   "nbconvert_exporter": "python",
   "pygments_lexer": "ipython3",
   "version": "3.9.13"
  }
 },
 "nbformat": 4,
 "nbformat_minor": 5
}
